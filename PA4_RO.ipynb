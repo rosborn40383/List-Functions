{
 "cells": [
  {
   "cell_type": "markdown",
   "id": "63c70101",
   "metadata": {},
   "source": [
    "Richard Osborn\n",
    "PA4, CS-150-01"
   ]
  },
  {
   "cell_type": "markdown",
   "id": "d67282b2",
   "metadata": {},
   "source": [
    "### append()\n",
    "This adds an element to the end of a list"
   ]
  },
  {
   "cell_type": "code",
   "execution_count": 4,
   "id": "2d2f273e",
   "metadata": {},
   "outputs": [
    {
     "name": "stdout",
     "output_type": "stream",
     "text": [
      "[1, 2, 3, 4, 5, 6]\n"
     ]
    }
   ],
   "source": [
    "numbers=[1,2,3,4,5]\n",
    "numbers.append(6)\n",
    "print(numbers)"
   ]
  },
  {
   "cell_type": "markdown",
   "id": "40cc6ca3",
   "metadata": {},
   "source": [
    "### extend()\n",
    "This can make your list longer and add other list"
   ]
  },
  {
   "cell_type": "code",
   "execution_count": 5,
   "id": "9ffa8bd9",
   "metadata": {},
   "outputs": [
    {
     "name": "stdout",
     "output_type": "stream",
     "text": [
      "[1, 2, 3, 4, 5, 6, 7, 8, 9]\n"
     ]
    }
   ],
   "source": [
    "numbers=[1,2,3,4,5]\n",
    "numbers2=[6,7,8,9]\n",
    "numbers.extend(numbers2)\n",
    "print(numbers)"
   ]
  },
  {
   "cell_type": "markdown",
   "id": "3843a195",
   "metadata": {},
   "source": [
    "### Insert()\n",
    "Inserts into the list"
   ]
  },
  {
   "cell_type": "code",
   "execution_count": 7,
   "id": "b6b69a88",
   "metadata": {},
   "outputs": [
    {
     "name": "stdout",
     "output_type": "stream",
     "text": [
      "[1, 2, 3, 88, 4, 5]\n"
     ]
    }
   ],
   "source": [
    "numbers=[1,2,3,4,5]\n",
    "numbers.insert(3,88)\n",
    "print(numbers)"
   ]
  },
  {
   "cell_type": "markdown",
   "id": "4f29478f",
   "metadata": {},
   "source": [
    "### remove()\n",
    "This removes an element from the list"
   ]
  },
  {
   "cell_type": "code",
   "execution_count": 8,
   "id": "1d8cc59c",
   "metadata": {},
   "outputs": [
    {
     "name": "stdout",
     "output_type": "stream",
     "text": [
      "[1, 2, 4, 5]\n"
     ]
    }
   ],
   "source": [
    "numbers=[1,2,3,4,5]\n",
    "numbers.remove(3)\n",
    "print(numbers)"
   ]
  },
  {
   "cell_type": "markdown",
   "id": "eae6928c",
   "metadata": {},
   "source": [
    "### Count()\n",
    "This counts how many elements are in your list"
   ]
  },
  {
   "cell_type": "code",
   "execution_count": 15,
   "id": "6a864396",
   "metadata": {},
   "outputs": [
    {
     "name": "stdout",
     "output_type": "stream",
     "text": [
      "[1, 2, 3, 4, 5] 1\n"
     ]
    }
   ],
   "source": [
    "numbers=[1,2,3,4,5]\n",
    "x=numbers.count(4)\n",
    "print(numbers,x)"
   ]
  },
  {
   "cell_type": "markdown",
   "id": "f1cdba63",
   "metadata": {},
   "source": [
    "### Index()\n",
    "Tells you what position a certain number in the list is"
   ]
  },
  {
   "cell_type": "code",
   "execution_count": 16,
   "id": "5a56aa87",
   "metadata": {},
   "outputs": [
    {
     "name": "stdout",
     "output_type": "stream",
     "text": [
      "[1, 2, 3, 4, 5] 2\n"
     ]
    }
   ],
   "source": [
    "numbers=[1,2,3,4,5]\n",
    "x=numbers.index(3)\n",
    "print(numbers,x)"
   ]
  },
  {
   "cell_type": "markdown",
   "id": "debc17cb",
   "metadata": {},
   "source": [
    "### pop()\n",
    "Removes the position chosen from the list"
   ]
  },
  {
   "cell_type": "code",
   "execution_count": 18,
   "id": "a420b97c",
   "metadata": {},
   "outputs": [
    {
     "name": "stdout",
     "output_type": "stream",
     "text": [
      "[1, 2, 4, 5] 3\n"
     ]
    }
   ],
   "source": [
    "numbers=[1,2,3,4,5]\n",
    "x=numbers.pop(2)\n",
    "print(numbers,x)"
   ]
  },
  {
   "cell_type": "markdown",
   "id": "5d40df87",
   "metadata": {},
   "source": [
    "### sorted()\n",
    "Sorts them from smallest to largest"
   ]
  },
  {
   "cell_type": "code",
   "execution_count": 20,
   "id": "0b76ce0a",
   "metadata": {},
   "outputs": [
    {
     "name": "stdout",
     "output_type": "stream",
     "text": [
      "[2, 3, 4, 5, 8]\n"
     ]
    }
   ],
   "source": [
    "numbers=[8,2,3,4,5]\n",
    "\n",
    "print(sorted(numbers))"
   ]
  },
  {
   "cell_type": "markdown",
   "id": "860483cb",
   "metadata": {},
   "source": [
    "### copy()\n",
    "Copies one list to another"
   ]
  },
  {
   "cell_type": "code",
   "execution_count": 23,
   "id": "5f796ac2",
   "metadata": {},
   "outputs": [
    {
     "name": "stdout",
     "output_type": "stream",
     "text": [
      "[8, 2, 3, 4, 5]\n"
     ]
    }
   ],
   "source": [
    "import copy\n",
    "numbers=[8,2,3,4,5]\n",
    "x=copy.copy(numbers)\n",
    "print(x)"
   ]
  },
  {
   "cell_type": "markdown",
   "id": "8142017a",
   "metadata": {},
   "source": [
    "### clear()\n",
    "This clears all the numbers and returns an empty list"
   ]
  },
  {
   "cell_type": "code",
   "execution_count": 24,
   "id": "cba3867d",
   "metadata": {},
   "outputs": [
    {
     "name": "stdout",
     "output_type": "stream",
     "text": [
      "[]\n"
     ]
    }
   ],
   "source": [
    "numbers=[8,2,3,4,5]\n",
    "numbers.clear()\n",
    "print(numbers)"
   ]
  },
  {
   "cell_type": "markdown",
   "id": "ee3348ce",
   "metadata": {},
   "source": [
    "### any()\n",
    "Checks if the elements are true or false"
   ]
  },
  {
   "cell_type": "code",
   "execution_count": 25,
   "id": "77736e71",
   "metadata": {},
   "outputs": [
    {
     "name": "stdout",
     "output_type": "stream",
     "text": [
      "[8, 2, 3, 4, 5] True\n"
     ]
    }
   ],
   "source": [
    "numbers=[8,2,3,4,5]\n",
    "x=any(numbers)\n",
    "print(numbers,x)"
   ]
  },
  {
   "cell_type": "markdown",
   "id": "1708d12f",
   "metadata": {},
   "source": [
    "### filter()\n",
    "Lets you filter true or false items into your list"
   ]
  },
  {
   "cell_type": "code",
   "execution_count": 37,
   "id": "aacb3477",
   "metadata": {},
   "outputs": [
    {
     "name": "stdout",
     "output_type": "stream",
     "text": [
      "55\n",
      "2\n",
      "34\n"
     ]
    }
   ],
   "source": [
    "miles=[55,77,2,59,87,34]\n",
    "def NearMe(z):\n",
    "    if z<56:\n",
    "        return True\n",
    "    else:\n",
    "        return False\n",
    "close=filter(NearMe, miles)\n",
    "for z in close:\n",
    "    print(z)"
   ]
  },
  {
   "cell_type": "markdown",
   "id": "9a1a1c24",
   "metadata": {},
   "source": [
    "### list()\n",
    "Will put your output into a list"
   ]
  },
  {
   "cell_type": "code",
   "execution_count": 38,
   "id": "0aec5633",
   "metadata": {},
   "outputs": [
    {
     "name": "stdout",
     "output_type": "stream",
     "text": [
      "['a', 'e', 'i', 'o', 'u']\n"
     ]
    }
   ],
   "source": [
    "all_vowels='aeiou'\n",
    "print(list(all_vowels))"
   ]
  },
  {
   "cell_type": "markdown",
   "id": "2282695c",
   "metadata": {},
   "source": [
    "### map()\n",
    "Can combine two seperate conditions"
   ]
  },
  {
   "cell_type": "code",
   "execution_count": 43,
   "id": "906b3706",
   "metadata": {},
   "outputs": [
    {
     "name": "stdout",
     "output_type": "stream",
     "text": [
      "[2, 4, 6, 8]\n"
     ]
    }
   ],
   "source": [
    "def addition(n):\n",
    "    return n + n\n",
    "numbers = (1, 2, 3, 4)\n",
    "result = map(addition, numbers)\n",
    "print(list(result))"
   ]
  },
  {
   "cell_type": "markdown",
   "id": "4e7b932a",
   "metadata": {},
   "source": [
    "### cmp()\n",
    "It doesn't work for our version but after research, it compares 2 elements in a list."
   ]
  },
  {
   "cell_type": "code",
   "execution_count": 1,
   "id": "50921370",
   "metadata": {},
   "outputs": [
    {
     "ename": "SyntaxError",
     "evalue": "invalid syntax (<ipython-input-1-dda0498c0dd9>, line 2)",
     "output_type": "error",
     "traceback": [
      "\u001b[0;36m  File \u001b[0;32m\"<ipython-input-1-dda0498c0dd9>\"\u001b[0;36m, line \u001b[0;32m2\u001b[0m\n\u001b[0;31m    print cmp(list1, list2)\u001b[0m\n\u001b[0m          ^\u001b[0m\n\u001b[0;31mSyntaxError\u001b[0m\u001b[0;31m:\u001b[0m invalid syntax\n"
     ]
    }
   ],
   "source": [
    "list1, list2 = [123, 'xyz'], [456, 'abc']\n",
    "print cmp(list1, list2)\n",
    "print cmp(list2, list1)\n",
    "list3 = list2 + [786];\n",
    "print cmp(list2, list3)"
   ]
  },
  {
   "cell_type": "markdown",
   "id": "404ec302",
   "metadata": {},
   "source": [
    "### len()\n",
    "Shows number of objects that pass through tuples"
   ]
  },
  {
   "cell_type": "code",
   "execution_count": 2,
   "id": "c3589b63",
   "metadata": {},
   "outputs": [
    {
     "name": "stdout",
     "output_type": "stream",
     "text": [
      "5\n"
     ]
    }
   ],
   "source": [
    "x=(3,4,5,6,9)\n",
    "print(len(x))"
   ]
  },
  {
   "cell_type": "markdown",
   "id": "1c357014",
   "metadata": {},
   "source": [
    "### max()\n",
    "Shows the max in a tuple"
   ]
  },
  {
   "cell_type": "code",
   "execution_count": 3,
   "id": "64cf79ad",
   "metadata": {},
   "outputs": [
    {
     "name": "stdout",
     "output_type": "stream",
     "text": [
      "22\n"
     ]
    }
   ],
   "source": [
    "x=(5,7,22,9,1)\n",
    "print(max(x))"
   ]
  },
  {
   "cell_type": "markdown",
   "id": "8edc352d",
   "metadata": {},
   "source": [
    "### tuple(seq)\n",
    "converts a list into a tuple"
   ]
  },
  {
   "cell_type": "code",
   "execution_count": 5,
   "id": "7a05b13d",
   "metadata": {},
   "outputs": [
    {
     "name": "stdout",
     "output_type": "stream",
     "text": [
      "(3, 5, 67, 8, 22)\n"
     ]
    }
   ],
   "source": [
    "numbers=[3,5,67,8,22]\n",
    "tuple_numbers=tuple(numbers)\n",
    "print(tuple_numbers)"
   ]
  },
  {
   "cell_type": "code",
   "execution_count": null,
   "id": "ae9f2236",
   "metadata": {},
   "outputs": [],
   "source": []
  }
 ],
 "metadata": {
  "kernelspec": {
   "display_name": "Python 3",
   "language": "python",
   "name": "python3"
  },
  "language_info": {
   "codemirror_mode": {
    "name": "ipython",
    "version": 3
   },
   "file_extension": ".py",
   "mimetype": "text/x-python",
   "name": "python",
   "nbconvert_exporter": "python",
   "pygments_lexer": "ipython3",
   "version": "3.8.8"
  }
 },
 "nbformat": 4,
 "nbformat_minor": 5
}
